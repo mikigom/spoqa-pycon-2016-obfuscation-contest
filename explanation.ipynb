{
 "cells": [
  {
   "cell_type": "markdown",
   "metadata": {
    "collapsed": true
   },
   "source": [
    "0) 시작"
   ]
  },
  {
   "cell_type": "code",
   "execution_count": null,
   "metadata": {
    "collapsed": true
   },
   "outputs": [],
   "source": [
    "import sys\n",
    "print(eval(sys.argv[1]))"
   ]
  },
  {
   "cell_type": "markdown",
   "metadata": {},
   "source": [
    "1) print를 sys.argv로 바꾸고, getattr를 이용하여 sys와 os import를 한 줄에 포함,\n",
    "   문자열을 바이트 코드로 전환. (os.write가 바이트 코드를 읽음)"
   ]
  },
  {
   "cell_type": "code",
   "execution_count": null,
   "metadata": {
    "collapsed": true
   },
   "outputs": [],
   "source": [
    "getattr(__import__(\"os\"), \"write\")(1, ''.join([str(eval(__import__(\"sys\").argv[1])), '\\n']).encode()"
   ]
  },
  {
   "cell_type": "markdown",
   "metadata": {},
   "source": [
    "2) 문자열의 인코딩 - 디코딩 과정의 연쇄로 접근"
   ]
  },
  {
   "cell_type": "code",
   "execution_count": null,
   "metadata": {
    "collapsed": true
   },
   "outputs": [],
   "source": [
    "getattr(__import__(\"os\"), \"write\")(True, ''.join(list((str(eval(__import__(bytes(list(\"sys\".encode('utf_16'))).decode('utf-16')).argv[True])), '\\n'))).encode())"
   ]
  },
  {
   "cell_type": "markdown",
   "metadata": {},
   "source": [
    "2 - 1) 주피터에선 유니코드가 깨져서 보이지 않으나 그리스 문자 유니코드와 영어 알파벳 유니코드를 섞어쓰기 시작함\n",
    "       문자열 인코딩한 것을 리스트 형으로 옮겨적음\n",
    "       functools.reduce와 base64.decodestring을 이용해 인코딩 - 디코딩 연쇄를 추가적으로 하면서, 문자열을 라인에 추가함"
   ]
  },
  {
   "cell_type": "code",
   "execution_count": null,
   "metadata": {
    "collapsed": true
   },
   "outputs": [],
   "source": [
    "getattr(__import__("os"), "write")(True, ''.join(list((str(eval(__import__(bytes([255, 254, 115, 0, 121, 0, 115, 0]).decode(getattr(__import__("functools"), "reduce")(lambda Α, A : Α + A, str(getattr(__import__("base64"), "decodestring")(b'dXRmLTE2\n'))[True + True : -True]))).argv[True])), '\n'))).encode())"
   ]
  },
  {
   "cell_type": "markdown",
   "metadata": {},
   "source": [
    "3) dir(True)[33][3:5]는 \"os\"임"
   ]
  },
  {
   "cell_type": "code",
   "execution_count": null,
   "metadata": {
    "collapsed": true
   },
   "outputs": [],
   "source": [
    "getattr(__import__(dir(True)[33][3:5]), "write")((lambda Τrue : True == True)(False), ''.join(list((str(eval(__import__(bytes([255, 254, 115, 0, 121, 0, 115, 0]).decode(getattr(__import__("functools"), "reduce")(lambda Α, A : Α + A, str(getattr(__import__("base64"), "decodestring")(b'dXRmLTE2\n'))[(lambda Τrue : True == True)(False) + (lambda Τrue : True == True)(False) : -(lambda Τrue : True == True)(False)]))).argv[(lambda Τrue : True == True)(False)])), '\n'))).encode())"
   ]
  },
  {
   "cell_type": "markdown",
   "metadata": {},
   "source": [
    "4) 지금까지와 같은 방식으로 모든 문자열을 인코딩 - 디코딩으로 바꾸고, 모든 숫자를 2의 거듭제곱과 그의 합으로 표현함"
   ]
  },
  {
   "cell_type": "code",
   "execution_count": null,
   "metadata": {
    "collapsed": true
   },
   "outputs": [],
   "source": [
    "getattr(__import__(dir(True)[(True << False << True << False << True << False << True << False << True << False << True << False).__add__(True << False)][(True << False << True << False).__add__(True << False):(True << False << True << False << True << False).__add__(True << False)]), bytes([(True << False).__invert__() + (True << False) + (True << False << True << False << True << False << True << False << True << False << True << False << True << False << True << False << True << False), (True << False << True << False).__invert__() + (True << False) + (True << False << True << False << True << False << True << False << True << False << True << False << True << False << True << False << True << False), False, False, (True << False <<True << False <<True << False <<True << False <<True << False <<True << False <<True << False).__add__(True << False <<True << False <<True << False <<True << False <<True << False <<True << False).__add__(True << False <<True << False <<True << False <<True << False <<True << False).__add__(True << False <<True << False <<True << False).__add__(True << False <<True << False).__add__(True << False), False, False, False, (True << False <<True << False <<True << False <<True << False <<True << False <<True << False <<True << False).__add__(True << False <<True << False <<True << False <<True << False <<True << False <<True << False).__add__(True << False <<True << False <<True << False <<True << False <<True << False).__add__(True << False <<True << False), False, False, False, (True << False << True << False << True << False << True << False << True << False << True << False << True << False).__add__(True << False << True << False << True << False << True << False << True << False << True << False).__add__(True << False << True << False << True << False << True << False).__add__(True << False), False, False, False, (True << False <<True << False <<True << False <<True << False <<True << False <<True << False <<True << False).__add__(True << False <<True << False <<True << False <<True << False <<True << False <<True << False).__add__(True << False <<True << False <<True << False <<True << False <<True << False).__add__(True << False <<True << False <<True << False), False, False, False, (True << False << True << False << True << False << True << False << True << False << True << False << True << False).__add__(True << False << True << False << True << False << True << False << True << False << True << False).__add__(True << False << True << False << True << False).__add__(True << False), False, False, False]).decode(bytes([(True << False <<True << False <<True << False <<True << False <<True << False <<True << False <<True << False).__add__(True << False <<True << False <<True << False <<True << False <<True << False <<True << False).__add__(True << False <<True << False <<True << False <<True << False <<True << False).__add__(True << False <<True << False <<True << False).__add__(True << False), (True << False <<True << False <<True << False <<True << False <<True << False <<True << False <<True << False).__add__(True << False <<True << False <<True << False <<True << False <<True << False <<True << False).__add__(True << False <<True << False <<True << False <<True << False <<True << False).__add__(True << False <<True << False <<True << False), (True << False <<True << False <<True << False <<True << False <<True << False <<True << False <<True << False).__add__(True << False <<True << False <<True << False <<True << False <<True << False <<True << False).__add__(True << False <<True << False <<True << False).__add__(True << False <<True << False), (True << False <<True << False <<True << False <<True << False <<True << False <<True << False).__add__(True << False <<True << False <<True << False <<True << False).__add__(True << False <<True << False <<True << False).__add__(True << False), (True << False <<True << False <<True << False <<True << False <<True << False <<True << False).__add__(True << False <<True << False <<True << False <<True << False <<True << False).__add__(True << False <<True << False).__add__(True << False), (True << False <<True << False <<True << False <<True << False <<True << False <<True << False).__add__(True << False <<True << False <<True << False <<True << False <<True << False).__add__(True << False <<True << False)]).decode()))((lambda Τrue : False.__ne__(Τrue << False))(True << False), "파이콘 APAC 2016 코드 난독화 대회 by mikigom"['False'.__ne__('False') : 'True'.__eq__('Τrue')].join(list((str(eval(__import__(bytes([(True << False << True << False << True << False << True << False << True << False << True << False << True << False << True << False << True << False) - True - False, (True << False << True << False << True << False << True << False << True << False << True << False << True << False << True << False << True << False).__sub__(True << False << True << False), (True << False << True << False << True << False << True << False << True << False << True << False << True << False << True << False).__add__((True << False << True << False << True << False << True << False << True << False).__invert__()).__add__(True << False << True << False << True << False), False, (True << False << True << False << True << False << True << False << True << False << True << False << True << False << True << False).__sub__(True << False << True << False << True << False << True << False).__add__(True << False), False, (True << False << True << False << True << False << True << False << True << False << True << False << True << False << True << False).__add__((True << False << True << False << True << False << True << False << True << False).__invert__()).__add__(True << False << True << False << True << False), False]).decode(getattr(__import__(bytes([(True << False).__invert__() + (True << False) + (True << False << True << False << True << False << True << False << True << False << True << False << True << False << True << False << True << False), (True << False << True << False).__invert__() + (True << False) + (True << False << True << False << True << False << True << False << True << False << True << False << True << False << True << False << True << False), False, False, (True << False << True << False << True << False << True << False << True << False << True << False << True << False).__add__(True << False << True << False << True << False << True << False << True << False << True << False).__add__(True << False << True << False << True << False).__add__(True << False << True << False), False, False, False, (True << False <<True << False <<True << False <<True << False <<True << False <<True << False <<True << False).__add__(True << False <<True << False <<True << False <<True << False <<True << False <<True << False).__add__(True << False <<True << False <<True << False <<True << False <<True << False).__add__(True << False <<True << False <<True << False).__add__(True << False), False, False, False, (True << False << True << False << True << False << True << False << True << False << True << False << True << False).__add__(True << False << True << False << True << False << True << False << True << False << True << False).__add__(True << False << True << False << True << False << True << False).__add__(True << False << True << False << True << False).__add__(True << False << True << False), False, False, False, (True << False <<True << False <<True << False <<True << False <<True << False <<True << False <<True << False).__add__(True << False <<True << False <<True << False <<True << False <<True << False <<True << False).__add__(True << False <<True << False).__add__(True << False), False, False, False, (True << False <<True << False <<True << False <<True << False <<True << False <<True << False <<True << False).__add__(True << False <<True << False <<True << False <<True << False <<True << False <<True << False).__add__(True << False <<True << False <<True << False <<True << False <<True << False).__add__(True << False <<True << False <<True << False), False, False, False, (True << False << True << False << True << False << True << False << True << False << True << False << True << False).__add__(True << False << True << False << True << False << True << False << True << False << True << False).__add__(True << False << True << False << True << False << True << False << True << False).__sub__(True << False), False, False, False, (True << False << True << False << True << False << True << False << True << False << True << False << True << False).__add__(True << False << True << False << True << False << True << False << True << False << True << False).__add__(True << False << True << False << True << False << True << False << True << False).__sub__(True << False), False, False, False, (True << False << True << False << True << False << True << False << True << False << True << False << True << False).__add__(True << False << True << False << True << False << True << False << True << False << True << False).__add__(True << False << True << False << True << False << True << False).__add__(True << False << True << False << True << False), False, False, False, (True << False <<True << False <<True << False <<True << False <<True << False <<True << False <<True << False).__add__(True << False <<True << False <<True << False <<True << False <<True << False <<True << False).__add__(True << False <<True << False <<True << False <<True << False <<True << False).__add__(True << False <<True << False).__add__(True << False), False, False, False]).decode(bytes([(True << False <<True << False <<True << False <<True << False <<True << False <<True << False <<True << False).__add__(True << False <<True << False <<True << False <<True << False <<True << False <<True << False).__add__(True << False <<True << False <<True << False <<True << False <<True << False).__add__(True << False <<True << False <<True << False).__add__(True << False), (True << False <<True << False <<True << False <<True << False <<True << False <<True << False <<True << False).__add__(True << False <<True << False <<True << False <<True << False <<True << False <<True << False).__add__(True << False <<True << False <<True << False <<True << False <<True << False).__add__(True << False <<True << False <<True << False), (True << False <<True << False <<True << False <<True << False <<True << False <<True << False <<True << False).__add__(True << False <<True << False <<True << False <<True << False <<True << False <<True << False).__add__(True << False <<True << False <<True << False).__add__(True << False <<True << False), (True << False <<True << False <<True << False <<True << False <<True << False <<True << False).__add__(True << False <<True << False <<True << False <<True << False).__add__(True << False <<True << False <<True << False).__add__(True << False), (True << False <<True << False <<True << False <<True << False <<True << False <<True << False).__add__(True << False <<True << False <<True << False <<True << False <<True << False).__add__(True << False <<True << False).__add__(True << False), (True << False <<True << False <<True << False <<True << False <<True << False <<True << False).__add__(True << False <<True << False <<True << False <<True << False <<True << False).__add__(True << False <<True << False)]).decode())), bytes([(True << False).__invert__() + (True << False) + (True << False << True << False << True << False << True << False << True << False << True << False << True << False << True << False << True << False), (True << False << True << False).__invert__() + (True << False) + (True << False << True << False << True << False << True << False << True << False << True << False << True << False << True << False << True << False), False, False, (True << False <<True << False <<True << False <<True << False <<True << False <<True << False <<True << False).__add__(True << False <<True << False <<True << False <<True << False <<True << False <<True << False).__add__(True << False <<True << False <<True << False <<True << False <<True << False).__add__(True << False <<True << False), False, False, False, (True << False << True << False << True << False << True << False << True << False << True << False << True << False).__add__(True << False << True << False << True << False << True << False << True << False << True << False).__add__(True << False << True << False << True << False).__add__(True << False), False, False, False, (True << False << True << False << True << False << True << False << True << False << True << False << True << False).__add__(True << False << True << False << True << False << True << False << True << False << True << False).__add__(True << False << True << False << True << False), False, False, False, (True << False <<True << False <<True << False <<True << False <<True << False <<True << False <<True << False).__add__(True << False <<True << False <<True << False <<True << False <<True << False <<True << False).__add__(True << False <<True << False <<True << False <<True << False <<True << False).__add__(True << False <<True << False <<True << False).__add__(True << False), False, False, False, (True << False <<True << False <<True << False <<True << False <<True << False <<True << False <<True << False).__add__(True << False <<True << False <<True << False <<True << False <<True << False <<True << False).__add__(True << False <<True << False).__add__(True << False), False, False, False, (True << False << True << False << True << False << True << False << True << False << True << False << True << False).__add__(True << False << True << False << True << False << True << False << True << False << True << False).__add__(True << False << True << False << True << False).__add__(True << False), False, False, False]).decode(bytes([(True << False <<True << False <<True << False <<True << False <<True << False <<True << False <<True << False).__add__(True << False <<True << False <<True << False <<True << False <<True << False <<True << False).__add__(True << False <<True << False <<True << False <<True << False <<True << False).__add__(True << False <<True << False <<True << False).__add__(True << False), (True << False <<True << False <<True << False <<True << False <<True << False <<True << False <<True << False).__add__(True << False <<True << False <<True << False <<True << False <<True << False <<True << False).__add__(True << False <<True << False <<True << False <<True << False <<True << False).__add__(True << False <<True << False <<True << False), (True << False <<True << False <<True << False <<True << False <<True << False <<True << False <<True << False).__add__(True << False <<True << False <<True << False <<True << False <<True << False <<True << False).__add__(True << False <<True << False <<True << False).__add__(True << False <<True << False), (True << False <<True << False <<True << False <<True << False <<True << False <<True << False).__add__(True << False <<True << False <<True << False <<True << False).__add__(True << False <<True << False <<True << False).__add__(True << False), (True << False <<True << False <<True << False <<True << False <<True << False <<True << False).__add__(True << False <<True << False <<True << False <<True << False <<True << False).__add__(True << False <<True << False).__add__(True << False), (True << False <<True << False <<True << False <<True << False <<True << False <<True << False).__add__(True << False <<True << False <<True << False <<True << False <<True << False).__add__(True << False <<True << False)]).decode()))(lambda Τrue, Fąlse : Τrue.__add__(Fąlse), str(getattr(__import__(bytes([(True << False).__invert__() + (True << False) + (True << False << True << False << True << False << True << False << True << False << True << False << True << False << True << False << True << False), (True << False << True << False).__invert__() + (True << False) + (True << False << True << False << True << False << True << False << True << False << True << False << True << False << True << False << True << False), False, False, (True << False <<True << False <<True << False <<True << False <<True << False <<True << False <<True << False).__add__(True << False <<True << False <<True << False <<True << False <<True << False <<True << False).__add__(True << False <<True << False), False, False, False, (True << False <<True << False <<True << False <<True << False <<True << False <<True << False <<True << False).__add__(True << False <<True << False <<True << False <<True << False <<True << False <<True << False).__add__(True << False), False, False, False, (True << False <<True << False <<True << False <<True << False <<True << False <<True << False <<True << False).__add__(True << False <<True << False <<True << False <<True << False <<True << False <<True << False).__add__(True << False <<True << False <<True << False <<True << False <<True << False).__add__(True << False <<True << False).__add__(True << False), False, False, False, (True << False << True << False << True << False << True << False << True << False << True << False << True << False).__add__(True << False << True << False << True << False << True << False << True << False << True << False).__add__(True << False << True << False << True << False).__add__(True << False), False, False, False, (True << False <<True << False <<True << False <<True << False <<True << False <<True << False).__add__(True << False <<True << False <<True << False <<True << False <<True << False).__add__(True << False <<True << False <<True << False).__add__(True << False <<True << False), False, False, False, (True << False <<True << False <<True << False <<True << False <<True << False <<True << False).__add__(True << False <<True << False <<True << False <<True << False <<True << False).__add__(True << False <<True << False <<True << False), False, False, False]).decode(bytes([(True << False <<True << False <<True << False <<True << False <<True << False <<True << False <<True << False).__add__(True << False <<True << False <<True << False <<True << False <<True << False <<True << False).__add__(True << False <<True << False <<True << False <<True << False <<True << False).__add__(True << False <<True << False <<True << False).__add__(True << False), (True << False <<True << False <<True << False <<True << False <<True << False <<True << False <<True << False).__add__(True << False <<True << False <<True << False <<True << False <<True << False <<True << False).__add__(True << False <<True << False <<True << False <<True << False <<True << False).__add__(True << False <<True << False <<True << False), (True << False <<True << False <<True << False <<True << False <<True << False <<True << False <<True << False).__add__(True << False <<True << False <<True << False <<True << False <<True << False <<True << False).__add__(True << False <<True << False <<True << False).__add__(True << False <<True << False), (True << False <<True << False <<True << False <<True << False <<True << False <<True << False).__add__(True << False <<True << False <<True << False <<True << False).__add__(True << False <<True << False <<True << False).__add__(True << False), (True << False <<True << False <<True << False <<True << False <<True << False <<True << False).__add__(True << False <<True << False <<True << False <<True << False <<True << False).__add__(True << False <<True << False).__add__(True << False), (True << False <<True << False <<True << False <<True << False <<True << False <<True << False).__add__(True << False <<True << False <<True << False <<True << False <<True << False).__add__(True << False <<True << False)]).decode())), bytes([(True << False).__invert__() + (True << False) + (True << False << True << False << True << False << True << False << True << False << True << False << True << False << True << False << True << False), (True << False << True << False).__invert__() + (True << False) + (True << False << True << False << True << False << True << False << True << False << True << False << True << False << True << False << True << False), False, False, (True << False << True << False << True << False << True << False << True << False << True << False << True << False).__add__(True << False << True << False << True << False << True << False << True << False << True << False).__add__(True << False << True << False << True << False), False, False, False, (True << False << True << False << True << False << True << False << True << False << True << False << True << False).__add__(True << False << True << False << True << False << True << False << True << False << True << False).__add__(True << False << True << False << True << False).__add__(True << False), False, False, False, (True << False <<True << False <<True << False <<True << False <<True << False <<True << False <<True << False).__add__(True << False <<True << False <<True << False <<True << False <<True << False <<True << False).__add__(True << False <<True << False).__add__(True << False), False, False, False, (True << False << True << False << True << False << True << False << True << False << True << False << True << False).__add__(True << False << True << False << True << False << True << False << True << False << True << False).__add__(True << False << True << False << True << False << True << False << True << False).__sub__(True << False), False, False, False, (True << False << True << False << True << False << True << False << True << False << True << False << True << False).__add__(True << False << True << False << True << False << True << False << True << False << True << False).__add__(True << False << True << False << True << False), False, False, False, (True << False << True << False << True << False << True << False << True << False << True << False << True << False).__add__(True << False << True << False << True << False << True << False << True << False << True << False).__add__(True << False << True << False << True << False).__add__(True << False), False, False, False, (True << False <<True << False <<True << False <<True << False <<True << False <<True << False <<True << False).__add__(True << False <<True << False <<True << False <<True << False <<True << False <<True << False).__add__(True << False <<True << False <<True << False <<True << False <<True << False).__add__(True << False <<True << False).__add__(True << False), False, False, False, (True << False <<True << False <<True << False <<True << False <<True << False <<True << False <<True << False).__add__(True << False <<True << False <<True << False <<True << False <<True << False <<True << False).__add__(True << False <<True << False <<True << False <<True << False <<True << False).__add__(True << False <<True << False <<True << False), False, False, False, (True << False <<True << False <<True << False <<True << False <<True << False <<True << False <<True << False).__add__(True << False <<True << False <<True << False <<True << False <<True << False <<True << False).__add__(True << False <<True << False <<True << False <<True << False <<True << False).__add__(True << False <<True << False), False, False, False, (True << False << True << False << True << False << True << False << True << False << True << False << True << False).__add__(True << False << True << False << True << False << True << False << True << False << True << False).__add__(True << False << True << False << True << False << True << False).__add__(True << False), False, False, False, (True << False << True << False << True << False << True << False << True << False << True << False << True << False).__add__(True << False << True << False << True << False << True << False << True << False << True << False).__add__(True << False << True << False << True << False << True << False).__add__(True << False << True << False << True << False).__add__(True << False << True << False), False, False, False, (True << False << True << False << True << False << True << False << True << False << True << False << True << False).__add__(True << False << True << False << True << False << True << False << True << False << True << False).__add__(True << False << True << False << True << False).__add__(True << False << True << False).__add__(True << False), False, False, False]).decode(bytes([(True << False <<True << False <<True << False <<True << False <<True << False <<True << False <<True << False).__add__(True << False <<True << False <<True << False <<True << False <<True << False <<True << False).__add__(True << False <<True << False <<True << False <<True << False <<True << False).__add__(True << False <<True << False <<True << False).__add__(True << False), (True << False <<True << False <<True << False <<True << False <<True << False <<True << False <<True << False).__add__(True << False <<True << False <<True << False <<True << False <<True << False <<True << False).__add__(True << False <<True << False <<True << False <<True << False <<True << False).__add__(True << False <<True << False <<True << False), (True << False <<True << False <<True << False <<True << False <<True << False <<True << False <<True << False).__add__(True << False <<True << False <<True << False <<True << False <<True << False <<True << False).__add__(True << False <<True << False <<True << False).__add__(True << False <<True << False), (True << False <<True << False <<True << False <<True << False <<True << False <<True << False).__add__(True << False <<True << False <<True << False <<True << False).__add__(True << False <<True << False <<True << False).__add__(True << False), (True << False <<True << False <<True << False <<True << False <<True << False <<True << False).__add__(True << False <<True << False <<True << False <<True << False <<True << False).__add__(True << False <<True << False).__add__(True << False), (True << False <<True << False <<True << False <<True << False <<True << False <<True << False).__add__(True << False <<True << False <<True << False <<True << False <<True << False).__add__(True << False <<True << False)]).decode()))(bytes([(True << False << True << False << True << False << True << False << True << False << True << False << True << False).__add__(True << False << True << False << True << False << True << False << True << False << True << False).__add__(True << False << True << False << True << False), (True << False <<True << False <<True << False <<True << False <<True << False <<True << False <<True << False).__add__(True << False <<True << False <<True << False <<True << False <<True << False).__add__(True << False <<True << False <<True << False <<True << False), (True << False <<True << False <<True << False <<True << False <<True << False <<True << False <<True << False).__add__(True << False <<True << False <<True << False <<True << False <<True << False).__add__(True << False <<True << False), (True << False << True << False << True << False << True << False << True << False << True << False << True << False).__add__(True << False << True << False << True << False << True << False << True << False << True << False).__add__(True << False << True << False << True << False << True << False).__add__(True << False << True << False << True << False).__add__(True << False), (True << False <<True << False <<True << False <<True << False <<True << False <<True << False <<True << False).__add__(True << False <<True << False <<True << False <<True << False).__add__(True << False <<True << False <<True << False), (True << False <<True << False <<True << False <<True << False <<True << False <<True << False <<True << False).__add__(True << False <<True << False <<True << False <<True << False <<True << False).__add__(True << False <<True << False <<True << False), (True << False <<True << False <<True << False <<True << False <<True << False <<True << False <<True << False).__add__(True << False <<True << False <<True << False).__add__(True << False), (True << False <<True << False <<True << False <<True << False <<True << False <<True << False).__add__(True << False <<True << False <<True << False <<True << False <<True << False).__add__(True << False <<True << False), (True << False <<True << False <<True << False <<True << False).__add__(True << False <<True << False)])))[(lambda Τrue : True.__eq__(Τrue))(True) + (lambda Τrue : True.__eq__(Τrue))(True) : (lambda Τrue : Τrue.__eq__(True))(True).__invert__().__add__(True)]))).argv[(lambda Τrue : True.__eq__(Τrue))(True)])), bytes([(True << False << True << False << True << False << True << False) + (True << False << True << False)]).decode()))).encode())"
   ]
  },
  {
   "cell_type": "markdown",
   "metadata": {},
   "source": [
    "4-1 ) 숫자 변환을 위해서 사용된 코드"
   ]
  },
  {
   "cell_type": "code",
   "execution_count": null,
   "metadata": {
    "collapsed": true
   },
   "outputs": [],
   "source": [
    "import sys\n",
    "print(int(sys.argv[1]))\n",
    "k = int(sys.argv[1])\n",
    "\n",
    "char_list = []\n",
    "def recur(n):\n",
    "    mul = 1\n",
    "    counter = 0\n",
    "    while(n > 0):\n",
    "        if(mul <= n):\n",
    "            mul = mul * 2\n",
    "            counter = counter + 1\n",
    "        else:\n",
    "            n = n - (mul / 2)\n",
    "            char_list.append(\"(\")\n",
    "            for i in range(counter):\n",
    "                char_list.append(\"True << False <<\")\n",
    "            char_list[-1] = char_list[-1][0:13]\n",
    "            char_list.append(\")\")\n",
    "            counter = 0\n",
    "            mul = 1\n",
    "            char_list.append(\".__add__\")\n",
    "    char_list.pop()\n",
    "\n",
    "recur(k)\n",
    "print(''.join(char_list)"
   ]
  }
 ],
 "metadata": {
  "kernelspec": {
   "display_name": "Python 3",
   "language": "python",
   "name": "python3"
  },
  "language_info": {
   "codemirror_mode": {
    "name": "ipython",
    "version": 3
   },
   "file_extension": ".py",
   "mimetype": "text/x-python",
   "name": "python",
   "nbconvert_exporter": "python",
   "pygments_lexer": "ipython3",
   "version": "3.5.1"
  },
  "widgets": {
   "state": {},
   "version": "1.1.2"
  }
 },
 "nbformat": 4,
 "nbformat_minor": 0
}
